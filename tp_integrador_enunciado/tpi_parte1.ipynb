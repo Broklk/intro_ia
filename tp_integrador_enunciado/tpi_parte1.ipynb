{
  "cells": [
    {
      "attachments": {},
      "cell_type": "markdown",
      "id": "07289bb0",
      "metadata": {},
      "source": [
        "# Trabajo integrador - Parte 1\n",
        "## Python y Numpy\n",
        "\n",
        "**Nombre**:"
      ]
    },
    {
      "cell_type": "code",
      "execution_count": 1,
      "id": "aaf94e0a",
      "metadata": {
        "id": "aaf94e0a"
      },
      "outputs": [],
      "source": [
        "import numpy as np"
      ]
    },
    {
      "attachments": {},
      "cell_type": "markdown",
      "id": "0ffe9554",
      "metadata": {},
      "source": [
        "## Ejercicio 1\n",
        "\n",
        "Dada una matriz en formato *numpy array*, donde cada fila de la matriz representa un vector matemático, se requiere computar las normas $l_0$, $l_1$, $l_2$, $l_{\\infty}$, según la siguientes definiciones:\n",
        "\n",
        "\\begin{equation}\n",
        "    ||\\mathbf{x}||^{p} = \\bigg(\\sum_{j=1}^{n}{|x_i|^p}\\bigg)^{\\frac{1}{p}}\n",
        "\\end{equation}\n",
        "\n",
        "con los casos especiales para $p=0$ y $p=\\infty$ siendo:\n",
        "\n",
        "\\begin{equation}\n",
        "    \\begin{array}{rcl}\n",
        "        ||\\mathbf{x}||_0 & = & \\bigg(\\sum_{j=1 \\wedge x_j != 0}{|x_i|}\\bigg)\\\\\n",
        "        ||\\mathbf{x}||_{\\infty} & = & \\max_{i}{|x_i|}\\\\\n",
        "    \\end{array}\n",
        "\\end{equation}"
      ]
    },
    {
      "cell_type": "code",
      "execution_count": 29,
      "id": "0bdb0ee3",
      "metadata": {},
      "outputs": [
        {
          "name": "stdout",
          "output_type": "stream",
          "text": [
            "La norma L0 es: [2 3 3 2]\n",
            "La norma L1 es: [ 4 15 24 22]\n",
            "La norma L2 es: [ 3.16227766  8.77496439 13.92838828 15.62049935]\n",
            "La norma L-infinito es: [ 3  6  9 12]\n"
          ]
        }
      ],
      "source": [
        "# Se define la matriz de vectores\n",
        "m = np.array([[1,0,-3],[4,-5,6],[-7,8,9],[10,0,-12]])\n",
        "\n",
        "# se calcula la norma L0 por vector\n",
        "norm_l0 = np.sum(m!=0, axis=1)\n",
        "print(\"La norma L0 es:\",norm_l0)\n",
        "\n",
        "# Se calcula la norma L1 por vector\n",
        "norm_l1 = np.sum(np.abs(m), axis=1)\n",
        "print(\"La norma L1 es:\",norm_l1)\n",
        "\n",
        "# Se calcula la norma L2 por vector\n",
        "norm_l2 = np.sqrt(np.sum(m**2, axis=1))\n",
        "print(\"La norma L2 es:\", norm_l2)\n",
        "\n",
        "# Se calcula la norma L-infinito por vector\n",
        "norm_linf = np.max(np.abs(m), axis=1)\n",
        "print(\"La norma L-infinito es:\", norm_linf)"
      ]
    },
    {
      "attachments": {},
      "cell_type": "markdown",
      "id": "dd66d862",
      "metadata": {},
      "source": [
        "## Ejercicio 2\n",
        "\n",
        "En clasificación contamos con dos arreglos, la “verdad” y la “predicción”. Cada elemento de los arreglos pueden tomar dos valores, “True” (representado por 1) y “False” (representado por 0). Entonces podemos definir 4 variables:\n",
        "\n",
        "* True Positive (TP): El valor verdadero es 1 y el valor predicho es 1\n",
        "* True Negative (TN): El valor verdadero es 0 y el valor predicho es 0\n",
        "* False Positive (FP): El valor verdadero es 0 y el valor predicho es 1\n",
        "* False Negative (FN): El valor verdadero es 1 y el valor predicho es 0\n",
        "\n",
        "A partir de esto definimos:\n",
        "\n",
        "* Precision = TP / (TP + FP)\n",
        "* Recall = TP / (TP + FN)\n",
        "* Accuracy = (TP + TN) / (TP + TN + FP + FN)\n",
        " \n",
        "Calcular las 3 métricas con Numpy y operaciones vectorizadas."
      ]
    },
    {
      "cell_type": "code",
      "execution_count": 37,
      "id": "794dcd58",
      "metadata": {},
      "outputs": [
        {
          "name": "stdout",
          "output_type": "stream",
          "text": [
            "Precision: 0.5\n",
            "Recall: 0.5\n",
            "Accuracy: 0.4\n"
          ]
        }
      ],
      "source": [
        "truth = np.array([1,1,0,1,1,1,0,0,0,1])\n",
        "prediction = np.array([1,1,1,1,0,0,1,1,0,0])\n",
        "\n",
        "TP = np.sum((truth == 1) & (prediction == 1))\n",
        "TN = np.sum((truth == 0) & (prediction == 0))\n",
        "FP = np.sum((truth == 0) & (prediction == 1))\n",
        "FN = np.sum((truth == 1) & (prediction == 0))\n",
        "\n",
        "precision = TP / (TP + FP)\n",
        "recall = TP / (TP + FN)\n",
        "accuracy = (TP + TN) / (TP + TN + FP + FN)\n",
        "\n",
        "print(\"Precision:\", precision)\n",
        "print(\"Recall:\", recall)\n",
        "print(\"Accuracy:\", accuracy)"
      ]
    },
    {
      "attachments": {},
      "cell_type": "markdown",
      "id": "d0ac6f6f",
      "metadata": {},
      "source": [
        "## Ejercicio 3\n",
        "\n",
        "Crear una función que separe los datos en train-validation-test. Debe recibir de parametros:\n",
        "\n",
        "- X: Array o Dataframe que contiene los datos de entrada del sistema.\n",
        "- y: Array o Dataframe que contiene la(s) variable(s) target del problema.\n",
        "- train_percentage: _float_ el porcentaje de training.\n",
        "- test_percentage: _float_ el porcentaje de testing.\n",
        "- val_percentage: _float_ el porcentaje de validación.\n",
        "- shuffle: _bool_ determina si el split debe hacerse de manera random o no.\n",
        "\n",
        "Hints: \n",
        "\n",
        "* Usar Indexing y slicing\n",
        "* Usar np.random.[...]"
      ]
    },
    {
      "cell_type": "code",
      "execution_count": 56,
      "id": "ca85fc66",
      "metadata": {},
      "outputs": [
        {
          "name": "stdout",
          "output_type": "stream",
          "text": [
            "X Input: [ 1 18 16  2  9  6 12  4 19 17 14  3 10 20  5 13  8 11 15  7] (20,)\n",
            "Y Input: [1 0 1 0 1 0 1 1 0 1] (10,)\n",
            "---- Valores para X ----\n",
            "X Train: [ 1 18 16  2  9  6 12  4 19 17 14  3 10 20  5 13] (16,)\n",
            "X Val: [ 8 11] (2,)\n",
            "X Test: [15  7] (2,)\n",
            "---- Valores para Y ----\n",
            "Y Train: [1 0 1 0 1 0 1 1] (8,)\n",
            "Y Val: [0] (1,)\n",
            "Y Test: [1] (1,)\n"
          ]
        }
      ],
      "source": [
        "def split(X_input,\n",
        "            Y_input,\n",
        "            train_size=0.7,\n",
        "            val_size=0.15,\n",
        "            test_size=0.15,\n",
        "            random_state=42,\n",
        "            shuffle=True):\n",
        "\n",
        "      # Validar que la suma de train_size, val_size y test_size sea 1\n",
        "      if train_size + val_size + test_size != 1:\n",
        "            raise ValueError(\"La suma de train_size, val_size y test_size debe ser 1.\")\n",
        "\n",
        "      # Ordenar aleatoriamente si shuffle es True\n",
        "      if shuffle:\n",
        "            X_input = np.random.RandomState(random_state).permutation(X_input)\n",
        "            Y_input = np.random.RandomState(random_state).permutation(Y_input)\n",
        "\n",
        "      print(\"X Input:\", X_input, X_input.shape)\n",
        "      print(\"Y Input:\", Y_input, Y_input.shape)\n",
        "\n",
        "      # Convertir train_size y val_size a enteros\n",
        "      train_size_x = int(X_input.shape[0] * train_size)\n",
        "      val_size_x = int(X_input.shape[0] * val_size)\n",
        "      train_size_y = int(Y_input.shape[0] * train_size)\n",
        "      val_size_y = int(Y_input.shape[0] * val_size)\n",
        "\n",
        "\n",
        "      # Dividir los datos en train, val y test\n",
        "      X_train = X_input[:train_size_x]\n",
        "      Y_train = Y_input[:train_size_y]\n",
        "      X_val = X_input[train_size_x:train_size_x + val_size_x]\n",
        "      Y_val = Y_input[train_size_y:train_size_y + val_size_y]\n",
        "      X_test = X_input[train_size_x + val_size_x:]\n",
        "      Y_test = Y_input[train_size_y + val_size_y:]\n",
        "\n",
        "      # mostrar los datos de train, val y test\n",
        "      print(\"---- Valores para X ----\")\n",
        "      print(\"X Train:\", X_train, X_train.shape)\n",
        "      print(\"X Val:\", X_val, X_val.shape)\n",
        "      print(\"X Test:\", X_test, X_test.shape)\n",
        "\n",
        "      print(\"---- Valores para Y ----\")\n",
        "      print(\"Y Train:\", Y_train, Y_train.shape)\n",
        "      print(\"Y Val:\", Y_val, Y_val.shape)\n",
        "      print(\"Y Test:\", Y_test, Y_test.shape)\n",
        "\n",
        "x = np.array([1, 2, 3, 4, 5, 6, 7, 8, 9, 10, 11, 12, 13, 14, 15, 16, 17, 18, 19, 20])\n",
        "y = np.array([0, 0, 0, 0, 1, 1, 1, 1, 1, 1])\n",
        "\n",
        "split(x, y, 0.8, 0.1, 0.1, 42, True)"
      ]
    }
  ],
  "metadata": {
    "colab": {
      "collapsed_sections": [],
      "name": "Practica_clase_3.ipynb",
      "provenance": []
    },
    "kernelspec": {
      "display_name": "Python 3.10.7 64-bit",
      "language": "python",
      "name": "python3"
    },
    "language_info": {
      "codemirror_mode": {
        "name": "ipython",
        "version": 3
      },
      "file_extension": ".py",
      "mimetype": "text/x-python",
      "name": "python",
      "nbconvert_exporter": "python",
      "pygments_lexer": "ipython3",
      "version": "3.10.12"
    },
    "vscode": {
      "interpreter": {
        "hash": "b5c22da4a52024410f64f9c5a5e2b4ffeeb944a5ed00e8825a42174cdab30315"
      }
    }
  },
  "nbformat": 4,
  "nbformat_minor": 5
}
