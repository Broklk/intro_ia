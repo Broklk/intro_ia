{
 "cells": [
  {
   "cell_type": "markdown",
   "metadata": {},
   "source": [
    "# Ejercicio\n",
    "\n",
    "Dada una nube de puntos X y centroides C, obtener la distancia entre cada vector X y los centroides\n",
    "utilizando operaciones vectorizadas y broadcasting en NumPy. Utilizar como referencia los siguientes\n",
    "valores.\n"
   ]
  },
  {
   "cell_type": "code",
   "execution_count": 3,
   "metadata": {},
   "outputs": [],
   "source": [
    "import numpy as np"
   ]
  },
  {
   "cell_type": "code",
   "execution_count": 10,
   "metadata": {},
   "outputs": [
    {
     "data": {
      "text/plain": [
       "27"
      ]
     },
     "execution_count": 10,
     "metadata": {},
     "output_type": "execute_result"
    }
   ],
   "source": [
    "X = [[1, 2, 3], [4, 5, 6], [7, 8, 9]]\n",
    "\n",
    "C = np.array([[1, 0, 0], [0, 1, 1]])\n",
    "\n",
    "def get_distance_iterative(point1, point2):\n",
    "    dist = 0\n",
    "    for i in range(len(point1)):\n",
    "        dist += (point1[i] - point2[i]) ** 2\n",
    "    return dist\n",
    "\n",
    "def get_closest_centroid_iterative(point, centroids):\n",
    "    min_dist = np.inf\n",
    "    min_idx = -1\n",
    "    for i, centroid in enumerate(centroids):\n",
    "        dist = get_distance_iterative(point, centroid)\n",
    "        if dist < min_dist:\n",
    "            min_dist = dist\n",
    "            min_idx = i\n",
    "    return min_idx\n",
    "\n",
    "get_distance_iterative(X[0], X[1])"
   ]
  },
  {
   "cell_type": "code",
   "execution_count": 12,
   "metadata": {},
   "outputs": [
    {
     "data": {
      "text/plain": [
       "5.196152422706632"
      ]
     },
     "execution_count": 12,
     "metadata": {},
     "output_type": "execute_result"
    }
   ],
   "source": [
    "# distancia entre dos puntos\n",
    "\n",
    "Y = np.array([[1, 2, 3], [4, 5, 6], [7, 8, 9]])\n",
    "\n",
    "def get_distance(point1, point2):\n",
    "    return np.sqrt(np.sum((point1 - point2) ** 2))\n",
    "\n",
    "get_distance(Y[0], Y[1])"
   ]
  },
  {
   "cell_type": "code",
   "execution_count": 15,
   "metadata": {},
   "outputs": [
    {
     "data": {
      "text/plain": [
       "27"
      ]
     },
     "execution_count": 15,
     "metadata": {},
     "output_type": "execute_result"
    }
   ],
   "source": [
    "def get_closest_centroid(point, centroids):\n",
    "    min_dist = np.inf\n",
    "    min_idx = -1\n",
    "    for i, centroid in enumerate(centroids):\n",
    "        dist = get_distance(point, centroid)\n",
    "        min_idx = i if dist < min_dist else min_idx\n",
    "    return min_idx"
   ]
  }
 ],
 "metadata": {
  "kernelspec": {
   "display_name": "Python 3",
   "language": "python",
   "name": "python3"
  },
  "language_info": {
   "codemirror_mode": {
    "name": "ipython",
    "version": 3
   },
   "file_extension": ".py",
   "mimetype": "text/x-python",
   "name": "python",
   "nbconvert_exporter": "python",
   "pygments_lexer": "ipython3",
   "version": "3.10.12"
  }
 },
 "nbformat": 4,
 "nbformat_minor": 2
}
